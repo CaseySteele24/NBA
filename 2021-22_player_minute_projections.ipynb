{
 "cells": [
  {
   "cell_type": "markdown",
   "source": [
    "# Predict Minutes Played in 2021-22 For Each Player"
   ],
   "metadata": {}
  },
  {
   "cell_type": "markdown",
   "source": [
    "### Objective: predict how many minutes each player in the NBA will have based on what their personal history is (age and minutes played in past seasons)"
   ],
   "metadata": {}
  },
  {
   "cell_type": "markdown",
   "source": [
    "### Things to consider: Rookies will not have any history and will need to be entered manually or based on prior rookies who were drafted in their range"
   ],
   "metadata": {}
  },
  {
   "cell_type": "code",
   "execution_count": 1,
   "source": [
    "import pandas as pd\r\n",
    "pd.set_option('display.max_columns', 50)"
   ],
   "outputs": [],
   "metadata": {}
  },
  {
   "cell_type": "code",
   "execution_count": 2,
   "source": [
    "# load CSV files I have back to the 2000-2001 seasons\r\n",
    "season_2001 = pd.read_csv(r'C:\\Users\\Casey\\Documents\\GitHub\\NBA\\NBA Scrapers\\bbref_player_totals_by_season\\player_totals_scrape_2001.csv', encoding='utf-16')\r\n",
    "season_2002 = pd.read_csv(r'C:\\Users\\Casey\\Documents\\GitHub\\NBA\\NBA Scrapers\\bbref_player_totals_by_season\\player_totals_scrape_2002.csv', encoding='utf-16')\r\n",
    "season_2003 = pd.read_csv(r'C:\\Users\\Casey\\Documents\\GitHub\\NBA\\NBA Scrapers\\bbref_player_totals_by_season\\player_totals_scrape_2003.csv', encoding='utf-16')\r\n",
    "season_2004 = pd.read_csv(r'C:\\Users\\Casey\\Documents\\GitHub\\NBA\\NBA Scrapers\\bbref_player_totals_by_season\\player_totals_scrape_2004.csv', encoding='utf-16')\r\n",
    "season_2005 = pd.read_csv(r'C:\\Users\\Casey\\Documents\\GitHub\\NBA\\NBA Scrapers\\bbref_player_totals_by_season\\player_totals_scrape_2005.csv', encoding='utf-16')\r\n",
    "season_2006 = pd.read_csv(r'C:\\Users\\Casey\\Documents\\GitHub\\NBA\\NBA Scrapers\\bbref_player_totals_by_season\\player_totals_scrape_2006.csv', encoding='utf-16')\r\n",
    "season_2007 = pd.read_csv(r'C:\\Users\\Casey\\Documents\\GitHub\\NBA\\NBA Scrapers\\bbref_player_totals_by_season\\player_totals_scrape_2007.csv', encoding='utf-16')\r\n",
    "season_2008 = pd.read_csv(r'C:\\Users\\Casey\\Documents\\GitHub\\NBA\\NBA Scrapers\\bbref_player_totals_by_season\\player_totals_scrape_2008.csv', encoding='utf-16')\r\n",
    "season_2009 = pd.read_csv(r'C:\\Users\\Casey\\Documents\\GitHub\\NBA\\NBA Scrapers\\bbref_player_totals_by_season\\player_totals_scrape_2009.csv', encoding='utf-16')\r\n",
    "season_2010 = pd.read_csv(r'C:\\Users\\Casey\\Documents\\GitHub\\NBA\\NBA Scrapers\\bbref_player_totals_by_season\\player_totals_scrape_2010.csv', encoding='utf-16')\r\n",
    "season_2011 = pd.read_csv(r'C:\\Users\\Casey\\Documents\\GitHub\\NBA\\NBA Scrapers\\bbref_player_totals_by_season\\player_totals_scrape_2011.csv', encoding='utf-16')\r\n",
    "season_2012 = pd.read_csv(r'C:\\Users\\Casey\\Documents\\GitHub\\NBA\\NBA Scrapers\\bbref_player_totals_by_season\\player_totals_scrape_2012.csv', encoding='utf-16')\r\n",
    "season_2013 = pd.read_csv(r'C:\\Users\\Casey\\Documents\\GitHub\\NBA\\NBA Scrapers\\bbref_player_totals_by_season\\player_totals_scrape_2013.csv', encoding='utf-16')\r\n",
    "season_2014 = pd.read_csv(r'C:\\Users\\Casey\\Documents\\GitHub\\NBA\\NBA Scrapers\\bbref_player_totals_by_season\\player_totals_scrape_2014.csv', encoding='utf-16')\r\n",
    "season_2015 = pd.read_csv(r'C:\\Users\\Casey\\Documents\\GitHub\\NBA\\NBA Scrapers\\bbref_player_totals_by_season\\player_totals_scrape_2015.csv', encoding='utf-16')\r\n",
    "season_2016 = pd.read_csv(r'C:\\Users\\Casey\\Documents\\GitHub\\NBA\\NBA Scrapers\\bbref_player_totals_by_season\\player_totals_scrape_2016.csv', encoding='utf-16')\r\n",
    "season_2017 = pd.read_csv(r'C:\\Users\\Casey\\Documents\\GitHub\\NBA\\NBA Scrapers\\bbref_player_totals_by_season\\player_totals_scrape_2017.csv', encoding='utf-16')\r\n",
    "season_2018 = pd.read_csv(r'C:\\Users\\Casey\\Documents\\GitHub\\NBA\\NBA Scrapers\\bbref_player_totals_by_season\\player_totals_scrape_2018.csv', encoding='utf-16')\r\n",
    "season_2019 = pd.read_csv(r'C:\\Users\\Casey\\Documents\\GitHub\\NBA\\NBA Scrapers\\bbref_player_totals_by_season\\player_totals_scrape_2019.csv', encoding='utf-16')\r\n",
    "season_2020 = pd.read_csv(r'C:\\Users\\Casey\\Documents\\GitHub\\NBA\\NBA Scrapers\\bbref_player_totals_by_season\\player_totals_scrape_2020.csv', encoding='utf-16')\r\n",
    "season_2021 = pd.read_csv(r'C:\\Users\\Casey\\Documents\\GitHub\\NBA\\NBA Scrapers\\bbref_player_totals_by_season\\player_totals_scrape_2021.csv', encoding='utf-16')"
   ],
   "outputs": [],
   "metadata": {}
  },
  {
   "cell_type": "code",
   "execution_count": 3,
   "source": [
    "# add a suffix to each of the files column names (excluding Name) before joining that will identify which season this occured in\r\n",
    "seasons = [season_2001, season_2002, season_2003, season_2004, season_2005, season_2006, season_2007, season_2008, season_2009, \r\n",
    "season_2010, season_2011, season_2012, season_2013, season_2014, season_2015, season_2016, season_2017, season_2018, season_2019, season_2020, season_2021]\r\n",
    "\r\n",
    "suffix = 2001\r\n",
    "\r\n",
    "for season in seasons:\r\n",
    "    season.columns += ('_' + str(suffix))\r\n",
    "    season.rename(columns={season.columns[0]: \"Name\"}, inplace = True)\r\n",
    "    suffix += 1"
   ],
   "outputs": [],
   "metadata": {}
  },
  {
   "cell_type": "code",
   "execution_count": 4,
   "source": [
    "print(season_2001.shape)\r\n",
    "print(season_2002.shape)"
   ],
   "outputs": [
    {
     "output_type": "stream",
     "name": "stdout",
     "text": [
      "(537, 29)\n",
      "(500, 29)\n"
     ]
    }
   ],
   "metadata": {}
  },
  {
   "cell_type": "code",
   "execution_count": 5,
   "source": [
    "# join the files together by player - this is going to be a very tedious process\r\n",
    "merged_df = season_2001.merge(season_2002, left_on='Name', right_on='Name', how='outer')\r\n",
    "merged_df = merged_df.merge(season_2003, left_on='Name', right_on='Name', how='outer')\r\n",
    "merged_df = merged_df.merge(season_2004, left_on='Name', right_on='Name', how='outer')\r\n",
    "merged_df = merged_df.merge(season_2005, left_on='Name', right_on='Name', how='outer')\r\n",
    "merged_df = merged_df.merge(season_2006, left_on='Name', right_on='Name', how='outer')\r\n",
    "merged_df = merged_df.merge(season_2007, left_on='Name', right_on='Name', how='outer')\r\n",
    "merged_df = merged_df.merge(season_2008, left_on='Name', right_on='Name', how='outer')\r\n",
    "merged_df = merged_df.merge(season_2009, left_on='Name', right_on='Name', how='outer')\r\n",
    "merged_df = merged_df.merge(season_2010, left_on='Name', right_on='Name', how='outer')\r\n",
    "merged_df = merged_df.merge(season_2011, left_on='Name', right_on='Name', how='outer')\r\n",
    "merged_df = merged_df.merge(season_2012, left_on='Name', right_on='Name', how='outer')\r\n",
    "merged_df = merged_df.merge(season_2013, left_on='Name', right_on='Name', how='outer')\r\n",
    "merged_df = merged_df.merge(season_2014, left_on='Name', right_on='Name', how='outer')\r\n",
    "merged_df = merged_df.merge(season_2015, left_on='Name', right_on='Name', how='outer')\r\n",
    "merged_df = merged_df.merge(season_2016, left_on='Name', right_on='Name', how='outer')\r\n",
    "merged_df = merged_df.merge(season_2017, left_on='Name', right_on='Name', how='outer')\r\n",
    "merged_df = merged_df.merge(season_2018, left_on='Name', right_on='Name', how='outer')\r\n",
    "merged_df = merged_df.merge(season_2019, left_on='Name', right_on='Name', how='outer')\r\n",
    "merged_df = merged_df.merge(season_2020, left_on='Name', right_on='Name', how='outer')\r\n",
    "merged_df = merged_df.merge(season_2021, left_on='Name', right_on='Name', how='outer')"
   ],
   "outputs": [],
   "metadata": {}
  },
  {
   "cell_type": "code",
   "execution_count": 6,
   "source": [
    "print(merged_df.shape)"
   ],
   "outputs": [
    {
     "output_type": "stream",
     "name": "stdout",
     "text": [
      "(8762, 589)\n"
     ]
    }
   ],
   "metadata": {}
  },
  {
   "cell_type": "code",
   "execution_count": 7,
   "source": [
    "# create a list of the player's name and minutes played by season variables only\r\n",
    "minutes_cols = [col for col in merged_df if col.startswith('minutes' )]\r\n",
    "age_cols = [col for col in merged_df if col.startswith('Age')]\r\n",
    "name_col = ['Name']\r\n",
    "final_cols = minutes_cols + age_cols + name_col\r\n",
    "final_cols"
   ],
   "outputs": [
    {
     "output_type": "execute_result",
     "data": {
      "text/plain": [
       "['minutes_played_2001',\n",
       " 'minutes_played_2002',\n",
       " 'minutes_played_2003',\n",
       " 'minutes_played_2004',\n",
       " 'minutes_played_2005',\n",
       " 'minutes_played_2006',\n",
       " 'minutes_played_2007',\n",
       " 'minutes_played_2008',\n",
       " 'minutes_played_2009',\n",
       " 'minutes_played_2010',\n",
       " 'minutes_played_2011',\n",
       " 'minutes_played_2012',\n",
       " 'minutes_played_2013',\n",
       " 'minutes_played_2014',\n",
       " 'minutes_played_2015',\n",
       " 'minutes_played_2016',\n",
       " 'minutes_played_2017',\n",
       " 'minutes_played_2018',\n",
       " 'minutes_played_2019',\n",
       " 'minutes_played_2020',\n",
       " 'minutes_played_2021',\n",
       " 'Age_2001',\n",
       " 'Age_2002',\n",
       " 'Age_2003',\n",
       " 'Age_2004',\n",
       " 'Age_2005',\n",
       " 'Age_2006',\n",
       " 'Age_2007',\n",
       " 'Age_2008',\n",
       " 'Age_2009',\n",
       " 'Age_2010',\n",
       " 'Age_2011',\n",
       " 'Age_2012',\n",
       " 'Age_2013',\n",
       " 'Age_2014',\n",
       " 'Age_2015',\n",
       " 'Age_2016',\n",
       " 'Age_2017',\n",
       " 'Age_2018',\n",
       " 'Age_2019',\n",
       " 'Age_2020',\n",
       " 'Age_2021',\n",
       " 'Name']"
      ]
     },
     "metadata": {},
     "execution_count": 7
    }
   ],
   "metadata": {}
  },
  {
   "cell_type": "code",
   "execution_count": 8,
   "source": [
    "# filter down to only include these columns\r\n",
    "player_min_by_season = merged_df[final_cols]"
   ],
   "outputs": [],
   "metadata": {}
  },
  {
   "cell_type": "code",
   "execution_count": 9,
   "source": [
    "player_min_by_season.columns"
   ],
   "outputs": [
    {
     "output_type": "execute_result",
     "data": {
      "text/plain": [
       "Index(['minutes_played_2001', 'minutes_played_2002', 'minutes_played_2003',\n",
       "       'minutes_played_2004', 'minutes_played_2005', 'minutes_played_2006',\n",
       "       'minutes_played_2007', 'minutes_played_2008', 'minutes_played_2009',\n",
       "       'minutes_played_2010', 'minutes_played_2011', 'minutes_played_2012',\n",
       "       'minutes_played_2013', 'minutes_played_2014', 'minutes_played_2015',\n",
       "       'minutes_played_2016', 'minutes_played_2017', 'minutes_played_2018',\n",
       "       'minutes_played_2019', 'minutes_played_2020', 'minutes_played_2021',\n",
       "       'Age_2001', 'Age_2002', 'Age_2003', 'Age_2004', 'Age_2005', 'Age_2006',\n",
       "       'Age_2007', 'Age_2008', 'Age_2009', 'Age_2010', 'Age_2011', 'Age_2012',\n",
       "       'Age_2013', 'Age_2014', 'Age_2015', 'Age_2016', 'Age_2017', 'Age_2018',\n",
       "       'Age_2019', 'Age_2020', 'Age_2021', 'Name'],\n",
       "      dtype='object')"
      ]
     },
     "metadata": {},
     "execution_count": 9
    }
   ],
   "metadata": {}
  },
  {
   "cell_type": "code",
   "execution_count": 10,
   "source": [
    "# reorder the columns since I am picky\r\n",
    "col_order = ['Name', 'minutes_played_2001', 'minutes_played_2002', 'minutes_played_2003',\r\n",
    "       'minutes_played_2004', 'minutes_played_2005', 'minutes_played_2006',\r\n",
    "       'minutes_played_2007', 'minutes_played_2008', 'minutes_played_2009',\r\n",
    "       'minutes_played_2010', 'minutes_played_2011', 'minutes_played_2012',\r\n",
    "       'minutes_played_2013', 'minutes_played_2014', 'minutes_played_2015',\r\n",
    "       'minutes_played_2016', 'minutes_played_2017', 'minutes_played_2018',\r\n",
    "       'minutes_played_2019', 'minutes_played_2020', 'minutes_played_2021', \r\n",
    "       'Age_2001', 'Age_2002', 'Age_2003', 'Age_2004', 'Age_2005', 'Age_2006',\r\n",
    "       'Age_2007', 'Age_2008', 'Age_2009', 'Age_2010', 'Age_2011', 'Age_2012',\r\n",
    "       'Age_2013', 'Age_2014', 'Age_2015', 'Age_2016', 'Age_2017', 'Age_2018',\r\n",
    "        'Age_2019', 'Age_2020', 'Age_2021',]\r\n",
    "\r\n",
    "player_min_by_season = player_min_by_season[col_order]"
   ],
   "outputs": [],
   "metadata": {}
  },
  {
   "cell_type": "code",
   "execution_count": 11,
   "source": [
    "player_min_by_season[player_min_by_season['Name'] == 'Kobe Bryant']"
   ],
   "outputs": [
    {
     "output_type": "execute_result",
     "data": {
      "text/html": [
       "<div>\n",
       "<style scoped>\n",
       "    .dataframe tbody tr th:only-of-type {\n",
       "        vertical-align: middle;\n",
       "    }\n",
       "\n",
       "    .dataframe tbody tr th {\n",
       "        vertical-align: top;\n",
       "    }\n",
       "\n",
       "    .dataframe thead th {\n",
       "        text-align: right;\n",
       "    }\n",
       "</style>\n",
       "<table border=\"1\" class=\"dataframe\">\n",
       "  <thead>\n",
       "    <tr style=\"text-align: right;\">\n",
       "      <th></th>\n",
       "      <th>Name</th>\n",
       "      <th>minutes_played_2001</th>\n",
       "      <th>minutes_played_2002</th>\n",
       "      <th>minutes_played_2003</th>\n",
       "      <th>minutes_played_2004</th>\n",
       "      <th>minutes_played_2005</th>\n",
       "      <th>minutes_played_2006</th>\n",
       "      <th>minutes_played_2007</th>\n",
       "      <th>minutes_played_2008</th>\n",
       "      <th>minutes_played_2009</th>\n",
       "      <th>minutes_played_2010</th>\n",
       "      <th>minutes_played_2011</th>\n",
       "      <th>minutes_played_2012</th>\n",
       "      <th>minutes_played_2013</th>\n",
       "      <th>minutes_played_2014</th>\n",
       "      <th>minutes_played_2015</th>\n",
       "      <th>minutes_played_2016</th>\n",
       "      <th>minutes_played_2017</th>\n",
       "      <th>minutes_played_2018</th>\n",
       "      <th>minutes_played_2019</th>\n",
       "      <th>minutes_played_2020</th>\n",
       "      <th>minutes_played_2021</th>\n",
       "      <th>Age_2001</th>\n",
       "      <th>Age_2002</th>\n",
       "      <th>Age_2003</th>\n",
       "      <th>Age_2004</th>\n",
       "      <th>Age_2005</th>\n",
       "      <th>Age_2006</th>\n",
       "      <th>Age_2007</th>\n",
       "      <th>Age_2008</th>\n",
       "      <th>Age_2009</th>\n",
       "      <th>Age_2010</th>\n",
       "      <th>Age_2011</th>\n",
       "      <th>Age_2012</th>\n",
       "      <th>Age_2013</th>\n",
       "      <th>Age_2014</th>\n",
       "      <th>Age_2015</th>\n",
       "      <th>Age_2016</th>\n",
       "      <th>Age_2017</th>\n",
       "      <th>Age_2018</th>\n",
       "      <th>Age_2019</th>\n",
       "      <th>Age_2020</th>\n",
       "      <th>Age_2021</th>\n",
       "    </tr>\n",
       "  </thead>\n",
       "  <tbody>\n",
       "    <tr>\n",
       "      <th>224</th>\n",
       "      <td>Kobe Bryant</td>\n",
       "      <td>2783.0</td>\n",
       "      <td>3063.0</td>\n",
       "      <td>3401.0</td>\n",
       "      <td>2447.0</td>\n",
       "      <td>2689.0</td>\n",
       "      <td>3277.0</td>\n",
       "      <td>3140.0</td>\n",
       "      <td>3192.0</td>\n",
       "      <td>2960.0</td>\n",
       "      <td>2835.0</td>\n",
       "      <td>2779.0</td>\n",
       "      <td>2232.0</td>\n",
       "      <td>3013.0</td>\n",
       "      <td>177.0</td>\n",
       "      <td>1207.0</td>\n",
       "      <td>1863.0</td>\n",
       "      <td>NaN</td>\n",
       "      <td>NaN</td>\n",
       "      <td>NaN</td>\n",
       "      <td>NaN</td>\n",
       "      <td>NaN</td>\n",
       "      <td>22.0</td>\n",
       "      <td>23.0</td>\n",
       "      <td>24.0</td>\n",
       "      <td>25.0</td>\n",
       "      <td>26.0</td>\n",
       "      <td>27.0</td>\n",
       "      <td>28.0</td>\n",
       "      <td>29.0</td>\n",
       "      <td>30.0</td>\n",
       "      <td>31.0</td>\n",
       "      <td>32.0</td>\n",
       "      <td>33.0</td>\n",
       "      <td>34.0</td>\n",
       "      <td>35.0</td>\n",
       "      <td>36.0</td>\n",
       "      <td>37.0</td>\n",
       "      <td>NaN</td>\n",
       "      <td>NaN</td>\n",
       "      <td>NaN</td>\n",
       "      <td>NaN</td>\n",
       "      <td>NaN</td>\n",
       "    </tr>\n",
       "  </tbody>\n",
       "</table>\n",
       "</div>"
      ],
      "text/plain": [
       "            Name  minutes_played_2001  minutes_played_2002  \\\n",
       "224  Kobe Bryant               2783.0               3063.0   \n",
       "\n",
       "     minutes_played_2003  minutes_played_2004  minutes_played_2005  \\\n",
       "224               3401.0               2447.0               2689.0   \n",
       "\n",
       "     minutes_played_2006  minutes_played_2007  minutes_played_2008  \\\n",
       "224               3277.0               3140.0               3192.0   \n",
       "\n",
       "     minutes_played_2009  minutes_played_2010  minutes_played_2011  \\\n",
       "224               2960.0               2835.0               2779.0   \n",
       "\n",
       "     minutes_played_2012  minutes_played_2013  minutes_played_2014  \\\n",
       "224               2232.0               3013.0                177.0   \n",
       "\n",
       "     minutes_played_2015  minutes_played_2016  minutes_played_2017  \\\n",
       "224               1207.0               1863.0                  NaN   \n",
       "\n",
       "     minutes_played_2018  minutes_played_2019  minutes_played_2020  \\\n",
       "224                  NaN                  NaN                  NaN   \n",
       "\n",
       "     minutes_played_2021  Age_2001  Age_2002  Age_2003  Age_2004  Age_2005  \\\n",
       "224                  NaN      22.0      23.0      24.0      25.0      26.0   \n",
       "\n",
       "     Age_2006  Age_2007  Age_2008  Age_2009  Age_2010  Age_2011  Age_2012  \\\n",
       "224      27.0      28.0      29.0      30.0      31.0      32.0      33.0   \n",
       "\n",
       "     Age_2013  Age_2014  Age_2015  Age_2016  Age_2017  Age_2018  Age_2019  \\\n",
       "224      34.0      35.0      36.0      37.0       NaN       NaN       NaN   \n",
       "\n",
       "     Age_2020  Age_2021  \n",
       "224       NaN       NaN  "
      ]
     },
     "metadata": {},
     "execution_count": 11
    }
   ],
   "metadata": {}
  },
  {
   "cell_type": "code",
   "execution_count": null,
   "source": [],
   "outputs": [],
   "metadata": {}
  }
 ],
 "metadata": {
  "orig_nbformat": 4,
  "language_info": {
   "name": "python",
   "version": "3.6.4",
   "mimetype": "text/x-python",
   "codemirror_mode": {
    "name": "ipython",
    "version": 3
   },
   "pygments_lexer": "ipython3",
   "nbconvert_exporter": "python",
   "file_extension": ".py"
  },
  "kernelspec": {
   "name": "python3",
   "display_name": "Python 3.6.4 64-bit ('base': conda)"
  },
  "interpreter": {
   "hash": "5b4129b0e6ed109d6738d6e2e43140334b748c2410f751cb3b9e9f9d4e236baa"
  }
 },
 "nbformat": 4,
 "nbformat_minor": 2
}
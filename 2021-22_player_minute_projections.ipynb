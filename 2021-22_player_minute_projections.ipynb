{
 "cells": [
  {
   "cell_type": "code",
   "execution_count": 1,
   "source": [
    "import pandas as pd"
   ],
   "outputs": [],
   "metadata": {}
  },
  {
   "cell_type": "code",
   "execution_count": 2,
   "source": [
    "# load CSV files I have back to the 2000-2001 seasons\r\n",
    "season_2001 = pd.read_csv(r'C:\\Users\\Casey\\Documents\\NBA\\Scraping\\NBA-Scrapers\\Scraping\\bbref_player_totals_by_season\\player_totals_scrape_2001.csv', encoding='utf-16')\r\n",
    "season_2002 = pd.read_csv(r'C:\\Users\\Casey\\Documents\\NBA\\Scraping\\NBA-Scrapers\\Scraping\\bbref_player_totals_by_season\\player_totals_scrape_2002.csv', encoding='utf-16')\r\n",
    "season_2003 = pd.read_csv(r'C:\\Users\\Casey\\Documents\\NBA\\Scraping\\NBA-Scrapers\\Scraping\\bbref_player_totals_by_season\\player_totals_scrape_2003.csv', encoding='utf-16')\r\n",
    "season_2004 = pd.read_csv(r'C:\\Users\\Casey\\Documents\\NBA\\Scraping\\NBA-Scrapers\\Scraping\\bbref_player_totals_by_season\\player_totals_scrape_2004.csv', encoding='utf-16')\r\n",
    "season_2005 = pd.read_csv(r'C:\\Users\\Casey\\Documents\\NBA\\Scraping\\NBA-Scrapers\\Scraping\\bbref_player_totals_by_season\\player_totals_scrape_2005.csv', encoding='utf-16')\r\n",
    "season_2006 = pd.read_csv(r'C:\\Users\\Casey\\Documents\\NBA\\Scraping\\NBA-Scrapers\\Scraping\\bbref_player_totals_by_season\\player_totals_scrape_2006.csv', encoding='utf-16')\r\n",
    "season_2007 = pd.read_csv(r'C:\\Users\\Casey\\Documents\\NBA\\Scraping\\NBA-Scrapers\\Scraping\\bbref_player_totals_by_season\\player_totals_scrape_2007.csv', encoding='utf-16')\r\n",
    "season_2008 = pd.read_csv(r'C:\\Users\\Casey\\Documents\\NBA\\Scraping\\NBA-Scrapers\\Scraping\\bbref_player_totals_by_season\\player_totals_scrape_2008.csv', encoding='utf-16')\r\n",
    "season_2009 = pd.read_csv(r'C:\\Users\\Casey\\Documents\\NBA\\Scraping\\NBA-Scrapers\\Scraping\\bbref_player_totals_by_season\\player_totals_scrape_2009.csv', encoding='utf-16')\r\n",
    "season_2010 = pd.read_csv(r'C:\\Users\\Casey\\Documents\\NBA\\Scraping\\NBA-Scrapers\\Scraping\\bbref_player_totals_by_season\\player_totals_scrape_2010.csv', encoding='utf-16')\r\n",
    "season_2011 = pd.read_csv(r'C:\\Users\\Casey\\Documents\\NBA\\Scraping\\NBA-Scrapers\\Scraping\\bbref_player_totals_by_season\\player_totals_scrape_2011.csv', encoding='utf-16')\r\n",
    "season_2012 = pd.read_csv(r'C:\\Users\\Casey\\Documents\\NBA\\Scraping\\NBA-Scrapers\\Scraping\\bbref_player_totals_by_season\\player_totals_scrape_2012.csv', encoding='utf-16')\r\n",
    "season_2013 = pd.read_csv(r'C:\\Users\\Casey\\Documents\\NBA\\Scraping\\NBA-Scrapers\\Scraping\\bbref_player_totals_by_season\\player_totals_scrape_2013.csv', encoding='utf-16')\r\n",
    "season_2014 = pd.read_csv(r'C:\\Users\\Casey\\Documents\\NBA\\Scraping\\NBA-Scrapers\\Scraping\\bbref_player_totals_by_season\\player_totals_scrape_2014.csv', encoding='utf-16')\r\n",
    "season_2015 = pd.read_csv(r'C:\\Users\\Casey\\Documents\\NBA\\Scraping\\NBA-Scrapers\\Scraping\\bbref_player_totals_by_season\\player_totals_scrape_2015.csv', encoding='utf-16')\r\n",
    "season_2016 = pd.read_csv(r'C:\\Users\\Casey\\Documents\\NBA\\Scraping\\NBA-Scrapers\\Scraping\\bbref_player_totals_by_season\\player_totals_scrape_2016.csv', encoding='utf-16')\r\n",
    "season_2017 = pd.read_csv(r'C:\\Users\\Casey\\Documents\\NBA\\Scraping\\NBA-Scrapers\\Scraping\\bbref_player_totals_by_season\\player_totals_scrape_2017.csv', encoding='utf-16')\r\n",
    "season_2018 = pd.read_csv(r'C:\\Users\\Casey\\Documents\\NBA\\Scraping\\NBA-Scrapers\\Scraping\\bbref_player_totals_by_season\\player_totals_scrape_2018.csv', encoding='utf-16')\r\n",
    "season_2019 = pd.read_csv(r'C:\\Users\\Casey\\Documents\\NBA\\Scraping\\NBA-Scrapers\\Scraping\\bbref_player_totals_by_season\\player_totals_scrape_2019.csv', encoding='utf-16')\r\n",
    "season_2020 = pd.read_csv(r'C:\\Users\\Casey\\Documents\\NBA\\Scraping\\NBA-Scrapers\\Scraping\\bbref_player_totals_by_season\\player_totals_scrape_2020.csv', encoding='utf-16')\r\n",
    "season_2021 = pd.read_csv(r'C:\\Users\\Casey\\Documents\\NBA\\Scraping\\NBA-Scrapers\\Scraping\\bbref_player_totals_by_season\\player_totals_scrape_2021.csv', encoding='utf-16')"
   ],
   "outputs": [],
   "metadata": {}
  },
  {
   "cell_type": "code",
   "execution_count": 3,
   "source": [
    "# add a suffix to each of the files column names (excluding Name) before joining that will identify which season this occured in\r\n",
    "seasons = [season_2001, season_2002, season_2003, season_2004, season_2005, season_2006, season_2007, season_2008, season_2009, \r\n",
    "season_2010, season_2011, season_2012, season_2013, season_2014, season_2015, season_2016, season_2017, season_2018, season_2019, season_2020, season_2021]\r\n",
    "\r\n",
    "suffix = 2001\r\n",
    "\r\n",
    "for season in seasons:\r\n",
    "    season.columns += ('_' + str(suffix))\r\n",
    "    season.rename(columns={season.columns[0]: \"Name\"}, inplace = True)\r\n",
    "    suffix += 1"
   ],
   "outputs": [],
   "metadata": {}
  },
  {
   "cell_type": "code",
   "execution_count": 5,
   "source": [
    "print(season_2001.shape)\r\n",
    "print(season_2002.shape)"
   ],
   "outputs": [
    {
     "output_type": "stream",
     "name": "stdout",
     "text": [
      "(537, 29)\n",
      "(500, 29)\n"
     ]
    }
   ],
   "metadata": {}
  },
  {
   "cell_type": "code",
   "execution_count": 6,
   "source": [
    "# join the files together by player - this is going to be a very tedious process\r\n",
    "merged_df = season_2001.merge(season_2002, left_on='Name', right_on='Name', how='outer')\r\n",
    "merged_df = merged_df.merge(season_2003, left_on='Name', right_on='Name', how='outer')\r\n",
    "merged_df = merged_df.merge(season_2004, left_on='Name', right_on='Name', how='outer')\r\n",
    "merged_df = merged_df.merge(season_2005, left_on='Name', right_on='Name', how='outer')\r\n",
    "merged_df = merged_df.merge(season_2006, left_on='Name', right_on='Name', how='outer')\r\n",
    "merged_df = merged_df.merge(season_2007, left_on='Name', right_on='Name', how='outer')\r\n",
    "merged_df = merged_df.merge(season_2008, left_on='Name', right_on='Name', how='outer')\r\n",
    "merged_df = merged_df.merge(season_2009, left_on='Name', right_on='Name', how='outer')\r\n",
    "merged_df = merged_df.merge(season_2010, left_on='Name', right_on='Name', how='outer')\r\n",
    "merged_df = merged_df.merge(season_2011, left_on='Name', right_on='Name', how='outer')\r\n",
    "merged_df = merged_df.merge(season_2012, left_on='Name', right_on='Name', how='outer')\r\n",
    "merged_df = merged_df.merge(season_2013, left_on='Name', right_on='Name', how='outer')\r\n",
    "merged_df = merged_df.merge(season_2014, left_on='Name', right_on='Name', how='outer')\r\n",
    "merged_df = merged_df.merge(season_2015, left_on='Name', right_on='Name', how='outer')\r\n",
    "merged_df = merged_df.merge(season_2016, left_on='Name', right_on='Name', how='outer')\r\n",
    "merged_df = merged_df.merge(season_2017, left_on='Name', right_on='Name', how='outer')\r\n",
    "merged_df = merged_df.merge(season_2018, left_on='Name', right_on='Name', how='outer')\r\n",
    "merged_df = merged_df.merge(season_2019, left_on='Name', right_on='Name', how='outer')\r\n",
    "merged_df = merged_df.merge(season_2020, left_on='Name', right_on='Name', how='outer')\r\n",
    "merged_df = merged_df.merge(season_2021, left_on='Name', right_on='Name', how='outer')"
   ],
   "outputs": [],
   "metadata": {}
  },
  {
   "cell_type": "code",
   "execution_count": 7,
   "source": [
    "print(merged_df.shape)"
   ],
   "outputs": [
    {
     "output_type": "stream",
     "name": "stdout",
     "text": [
      "(8762, 589)\n"
     ]
    }
   ],
   "metadata": {}
  },
  {
   "cell_type": "code",
   "execution_count": null,
   "source": [],
   "outputs": [],
   "metadata": {}
  }
 ],
 "metadata": {
  "orig_nbformat": 4,
  "language_info": {
   "name": "python",
   "version": "3.6.4",
   "mimetype": "text/x-python",
   "codemirror_mode": {
    "name": "ipython",
    "version": 3
   },
   "pygments_lexer": "ipython3",
   "nbconvert_exporter": "python",
   "file_extension": ".py"
  },
  "kernelspec": {
   "name": "python3",
   "display_name": "Python 3.6.4 64-bit ('base': conda)"
  },
  "interpreter": {
   "hash": "5b4129b0e6ed109d6738d6e2e43140334b748c2410f751cb3b9e9f9d4e236baa"
  }
 },
 "nbformat": 4,
 "nbformat_minor": 2
}
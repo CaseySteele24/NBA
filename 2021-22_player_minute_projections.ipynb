{
 "cells": [
  {
   "cell_type": "code",
   "execution_count": 1,
   "source": [
    "import pandas as pd"
   ],
   "outputs": [],
   "metadata": {}
  },
  {
   "cell_type": "code",
   "execution_count": 2,
   "source": [
    "# load CSV files I have back to the 2000-2001 seasons\r\n",
    "season_2001 = pd.read_csv(r'C:\\Users\\Casey\\Documents\\NBA\\Scraping\\NBA-Scrapers\\Scraping\\bbref_player_totals_by_season\\player_totals_scrape_2001.csv', encoding='utf-16')\r\n",
    "season_2002 = pd.read_csv(r'C:\\Users\\Casey\\Documents\\NBA\\Scraping\\NBA-Scrapers\\Scraping\\bbref_player_totals_by_season\\player_totals_scrape_2002.csv', encoding='utf-16')\r\n",
    "season_2003 = pd.read_csv(r'C:\\Users\\Casey\\Documents\\NBA\\Scraping\\NBA-Scrapers\\Scraping\\bbref_player_totals_by_season\\player_totals_scrape_2003.csv', encoding='utf-16')\r\n",
    "season_2004 = pd.read_csv(r'C:\\Users\\Casey\\Documents\\NBA\\Scraping\\NBA-Scrapers\\Scraping\\bbref_player_totals_by_season\\player_totals_scrape_2004.csv', encoding='utf-16')\r\n",
    "season_2005 = pd.read_csv(r'C:\\Users\\Casey\\Documents\\NBA\\Scraping\\NBA-Scrapers\\Scraping\\bbref_player_totals_by_season\\player_totals_scrape_2005.csv', encoding='utf-16')\r\n",
    "season_2006 = pd.read_csv(r'C:\\Users\\Casey\\Documents\\NBA\\Scraping\\NBA-Scrapers\\Scraping\\bbref_player_totals_by_season\\player_totals_scrape_2006.csv', encoding='utf-16')\r\n",
    "season_2007 = pd.read_csv(r'C:\\Users\\Casey\\Documents\\NBA\\Scraping\\NBA-Scrapers\\Scraping\\bbref_player_totals_by_season\\player_totals_scrape_2007.csv', encoding='utf-16')\r\n",
    "season_2008 = pd.read_csv(r'C:\\Users\\Casey\\Documents\\NBA\\Scraping\\NBA-Scrapers\\Scraping\\bbref_player_totals_by_season\\player_totals_scrape_2008.csv', encoding='utf-16')\r\n",
    "season_2009 = pd.read_csv(r'C:\\Users\\Casey\\Documents\\NBA\\Scraping\\NBA-Scrapers\\Scraping\\bbref_player_totals_by_season\\player_totals_scrape_2009.csv', encoding='utf-16')\r\n",
    "season_2010 = pd.read_csv(r'C:\\Users\\Casey\\Documents\\NBA\\Scraping\\NBA-Scrapers\\Scraping\\bbref_player_totals_by_season\\player_totals_scrape_2010.csv', encoding='utf-16')\r\n",
    "season_2011 = pd.read_csv(r'C:\\Users\\Casey\\Documents\\NBA\\Scraping\\NBA-Scrapers\\Scraping\\bbref_player_totals_by_season\\player_totals_scrape_2011.csv', encoding='utf-16')\r\n",
    "season_2012 = pd.read_csv(r'C:\\Users\\Casey\\Documents\\NBA\\Scraping\\NBA-Scrapers\\Scraping\\bbref_player_totals_by_season\\player_totals_scrape_2012.csv', encoding='utf-16')\r\n",
    "season_2013 = pd.read_csv(r'C:\\Users\\Casey\\Documents\\NBA\\Scraping\\NBA-Scrapers\\Scraping\\bbref_player_totals_by_season\\player_totals_scrape_2013.csv', encoding='utf-16')\r\n",
    "season_2014 = pd.read_csv(r'C:\\Users\\Casey\\Documents\\NBA\\Scraping\\NBA-Scrapers\\Scraping\\bbref_player_totals_by_season\\player_totals_scrape_2014.csv', encoding='utf-16')\r\n",
    "season_2015 = pd.read_csv(r'C:\\Users\\Casey\\Documents\\NBA\\Scraping\\NBA-Scrapers\\Scraping\\bbref_player_totals_by_season\\player_totals_scrape_2015.csv', encoding='utf-16')\r\n",
    "season_2016 = pd.read_csv(r'C:\\Users\\Casey\\Documents\\NBA\\Scraping\\NBA-Scrapers\\Scraping\\bbref_player_totals_by_season\\player_totals_scrape_2016.csv', encoding='utf-16')\r\n",
    "season_2017 = pd.read_csv(r'C:\\Users\\Casey\\Documents\\NBA\\Scraping\\NBA-Scrapers\\Scraping\\bbref_player_totals_by_season\\player_totals_scrape_2017.csv', encoding='utf-16')\r\n",
    "season_2018 = pd.read_csv(r'C:\\Users\\Casey\\Documents\\NBA\\Scraping\\NBA-Scrapers\\Scraping\\bbref_player_totals_by_season\\player_totals_scrape_2018.csv', encoding='utf-16')\r\n",
    "season_2019 = pd.read_csv(r'C:\\Users\\Casey\\Documents\\NBA\\Scraping\\NBA-Scrapers\\Scraping\\bbref_player_totals_by_season\\player_totals_scrape_2019.csv', encoding='utf-16')\r\n",
    "season_2020 = pd.read_csv(r'C:\\Users\\Casey\\Documents\\NBA\\Scraping\\NBA-Scrapers\\Scraping\\bbref_player_totals_by_season\\player_totals_scrape_2020.csv', encoding='utf-16')\r\n",
    "season_2021 = pd.read_csv(r'C:\\Users\\Casey\\Documents\\NBA\\Scraping\\NBA-Scrapers\\Scraping\\bbref_player_totals_by_season\\player_totals_scrape_2021.csv', encoding='utf-16')"
   ],
   "outputs": [],
   "metadata": {}
  },
  {
   "cell_type": "code",
   "execution_count": 3,
   "source": [
    "# add a suffix to each of the files column names (excluding Name) before joining that will identify which season this occured in\r\n",
    "seasons = [season_2001, season_2002, season_2003, season_2004, season_2005, season_2006, season_2007, season_2008, season_2009, \r\n",
    "season_2010, season_2011, season_2012, season_2013, season_2014, season_2015, season_2016, season_2017, season_2018, season_2019, season_2020, season_2021]\r\n",
    "\r\n",
    "suffix = 2001\r\n",
    "\r\n",
    "for season in seasons:\r\n",
    "    season.columns += ('_' + str(suffix))\r\n",
    "    season.rename(columns={season.columns[0]: \"Name\"}, inplace = True)\r\n",
    "    suffix += 1"
   ],
   "outputs": [],
   "metadata": {}
  },
  {
   "cell_type": "code",
   "execution_count": 5,
   "source": [
    "print(season_2001.shape)\r\n",
    "print(season_2002.shape)"
   ],
   "outputs": [
    {
     "output_type": "stream",
     "name": "stdout",
     "text": [
      "(537, 29)\n",
      "(500, 29)\n"
     ]
    }
   ],
   "metadata": {}
  },
  {
   "cell_type": "code",
   "execution_count": 6,
   "source": [
    "# join the files together by player - this is going to be a very tedious process\r\n",
    "merged_df = season_2001.merge(season_2002, left_on='Name', right_on='Name', how='outer')\r\n",
    "merged_df = merged_df.merge(season_2003, left_on='Name', right_on='Name', how='outer')\r\n",
    "merged_df = merged_df.merge(season_2004, left_on='Name', right_on='Name', how='outer')\r\n",
    "merged_df = merged_df.merge(season_2005, left_on='Name', right_on='Name', how='outer')\r\n",
    "merged_df = merged_df.merge(season_2006, left_on='Name', right_on='Name', how='outer')\r\n",
    "merged_df = merged_df.merge(season_2007, left_on='Name', right_on='Name', how='outer')\r\n",
    "merged_df = merged_df.merge(season_2008, left_on='Name', right_on='Name', how='outer')\r\n",
    "merged_df = merged_df.merge(season_2009, left_on='Name', right_on='Name', how='outer')\r\n",
    "merged_df = merged_df.merge(season_2010, left_on='Name', right_on='Name', how='outer')\r\n",
    "merged_df = merged_df.merge(season_2011, left_on='Name', right_on='Name', how='outer')\r\n",
    "merged_df = merged_df.merge(season_2012, left_on='Name', right_on='Name', how='outer')\r\n",
    "merged_df = merged_df.merge(season_2013, left_on='Name', right_on='Name', how='outer')\r\n",
    "merged_df = merged_df.merge(season_2014, left_on='Name', right_on='Name', how='outer')\r\n",
    "merged_df = merged_df.merge(season_2015, left_on='Name', right_on='Name', how='outer')\r\n",
    "merged_df = merged_df.merge(season_2016, left_on='Name', right_on='Name', how='outer')\r\n",
    "merged_df = merged_df.merge(season_2017, left_on='Name', right_on='Name', how='outer')\r\n",
    "merged_df = merged_df.merge(season_2018, left_on='Name', right_on='Name', how='outer')\r\n",
    "merged_df = merged_df.merge(season_2019, left_on='Name', right_on='Name', how='outer')\r\n",
    "merged_df = merged_df.merge(season_2020, left_on='Name', right_on='Name', how='outer')\r\n",
    "merged_df = merged_df.merge(season_2021, left_on='Name', right_on='Name', how='outer')"
   ],
   "outputs": [],
   "metadata": {}
  },
  {
   "cell_type": "code",
   "execution_count": 7,
   "source": [
    "print(merged_df.shape)"
   ],
   "outputs": [
    {
     "output_type": "stream",
     "name": "stdout",
     "text": [
      "(8762, 589)\n"
     ]
    }
   ],
   "metadata": {}
  },
  {
   "cell_type": "code",
   "execution_count": 13,
   "source": [
    "merged_df.dtypes"
   ],
   "outputs": [
    {
     "output_type": "execute_result",
     "data": {
      "text/plain": [
       "Name                              object\n",
       "Position_2001                     object\n",
       "Age_2001                         float64\n",
       "Team_2001                         object\n",
       "games_played_2001                float64\n",
       "games_started_2001               float64\n",
       "minutes_played_2001              float64\n",
       "field_goals_2001                 float64\n",
       "field_goals_attempted_2001       float64\n",
       "field_goal_percentage_2001       float64\n",
       "three_pointers_made_2001         float64\n",
       "three_pointers_attempted_2001    float64\n",
       "three_point_percentage_2001      float64\n",
       "two_pointers_made_2001           float64\n",
       "two_pointers_attempted_2001      float64\n",
       "two_point_percentage_2001        float64\n",
       "effective_percentage_2001        float64\n",
       "ft_made_2001                     float64\n",
       "ft_attempted_2001                float64\n",
       "ft_percentage_2001               float64\n",
       "offensive_rebs_2001              float64\n",
       "defensive_rebs_2001              float64\n",
       "total_rebs_2001                  float64\n",
       "assists_2001                     float64\n",
       "steals_2001                      float64\n",
       "blocks_2001                      float64\n",
       "turnovers_2001                   float64\n",
       "personal_fouls_2001              float64\n",
       "points_scored_2001               float64\n",
       "Position_2002                     object\n",
       "                                  ...   \n",
       "personal_fouls_2020              float64\n",
       "points_scored_2020               float64\n",
       "Position_2021                     object\n",
       "Age_2021                         float64\n",
       "Team_2021                         object\n",
       "games_played_2021                float64\n",
       "games_started_2021               float64\n",
       "minutes_played_2021              float64\n",
       "field_goals_2021                 float64\n",
       "field_goals_attempted_2021       float64\n",
       "field_goal_percentage_2021       float64\n",
       "three_pointers_made_2021         float64\n",
       "three_pointers_attempted_2021    float64\n",
       "three_point_percentage_2021      float64\n",
       "two_pointers_made_2021           float64\n",
       "two_pointers_attempted_2021      float64\n",
       "two_point_percentage_2021        float64\n",
       "effective_percentage_2021        float64\n",
       "ft_made_2021                     float64\n",
       "ft_attempted_2021                float64\n",
       "ft_percentage_2021               float64\n",
       "offensive_rebs_2021              float64\n",
       "defensive_rebs_2021              float64\n",
       "total_rebs_2021                  float64\n",
       "assists_2021                     float64\n",
       "steals_2021                      float64\n",
       "blocks_2021                      float64\n",
       "turnovers_2021                   float64\n",
       "personal_fouls_2021              float64\n",
       "points_scored_2021               float64\n",
       "Length: 589, dtype: object"
      ]
     },
     "metadata": {},
     "execution_count": 13
    }
   ],
   "metadata": {}
  },
  {
   "cell_type": "code",
   "execution_count": 12,
   "source": [
    "merged_df[[merged_df['points_scored_2021'] >= 2000]]"
   ],
   "outputs": [
    {
     "output_type": "error",
     "ename": "ValueError",
     "evalue": "Item wrong length 1 instead of 8762.",
     "traceback": [
      "\u001b[1;31m---------------------------------------------------------------------------\u001b[0m",
      "\u001b[1;31mValueError\u001b[0m                                Traceback (most recent call last)",
      "\u001b[1;32m<ipython-input-12-9129943782d6>\u001b[0m in \u001b[0;36m<module>\u001b[1;34m()\u001b[0m\n\u001b[1;32m----> 1\u001b[1;33m \u001b[0mmerged_df\u001b[0m\u001b[1;33m[\u001b[0m\u001b[1;33m[\u001b[0m\u001b[0mmerged_df\u001b[0m\u001b[1;33m[\u001b[0m\u001b[1;34m'points_scored_2021'\u001b[0m\u001b[1;33m]\u001b[0m \u001b[1;33m>=\u001b[0m \u001b[1;36m2000\u001b[0m\u001b[1;33m]\u001b[0m\u001b[1;33m]\u001b[0m\u001b[1;33m\u001b[0m\u001b[0m\n\u001b[0m",
      "\u001b[1;32m~\\Anaconda3\\lib\\site-packages\\pandas\\core\\frame.py\u001b[0m in \u001b[0;36m__getitem__\u001b[1;34m(self, key)\u001b[0m\n\u001b[0;32m   2131\u001b[0m         \u001b[1;32mif\u001b[0m \u001b[0misinstance\u001b[0m\u001b[1;33m(\u001b[0m\u001b[0mkey\u001b[0m\u001b[1;33m,\u001b[0m \u001b[1;33m(\u001b[0m\u001b[0mSeries\u001b[0m\u001b[1;33m,\u001b[0m \u001b[0mnp\u001b[0m\u001b[1;33m.\u001b[0m\u001b[0mndarray\u001b[0m\u001b[1;33m,\u001b[0m \u001b[0mIndex\u001b[0m\u001b[1;33m,\u001b[0m \u001b[0mlist\u001b[0m\u001b[1;33m)\u001b[0m\u001b[1;33m)\u001b[0m\u001b[1;33m:\u001b[0m\u001b[1;33m\u001b[0m\u001b[0m\n\u001b[0;32m   2132\u001b[0m             \u001b[1;31m# either boolean or fancy integer index\u001b[0m\u001b[1;33m\u001b[0m\u001b[1;33m\u001b[0m\u001b[0m\n\u001b[1;32m-> 2133\u001b[1;33m             \u001b[1;32mreturn\u001b[0m \u001b[0mself\u001b[0m\u001b[1;33m.\u001b[0m\u001b[0m_getitem_array\u001b[0m\u001b[1;33m(\u001b[0m\u001b[0mkey\u001b[0m\u001b[1;33m)\u001b[0m\u001b[1;33m\u001b[0m\u001b[0m\n\u001b[0m\u001b[0;32m   2134\u001b[0m         \u001b[1;32melif\u001b[0m \u001b[0misinstance\u001b[0m\u001b[1;33m(\u001b[0m\u001b[0mkey\u001b[0m\u001b[1;33m,\u001b[0m \u001b[0mDataFrame\u001b[0m\u001b[1;33m)\u001b[0m\u001b[1;33m:\u001b[0m\u001b[1;33m\u001b[0m\u001b[0m\n\u001b[0;32m   2135\u001b[0m             \u001b[1;32mreturn\u001b[0m \u001b[0mself\u001b[0m\u001b[1;33m.\u001b[0m\u001b[0m_getitem_frame\u001b[0m\u001b[1;33m(\u001b[0m\u001b[0mkey\u001b[0m\u001b[1;33m)\u001b[0m\u001b[1;33m\u001b[0m\u001b[0m\n",
      "\u001b[1;32m~\\Anaconda3\\lib\\site-packages\\pandas\\core\\frame.py\u001b[0m in \u001b[0;36m_getitem_array\u001b[1;34m(self, key)\u001b[0m\n\u001b[0;32m   2168\u001b[0m             \u001b[1;32melif\u001b[0m \u001b[0mlen\u001b[0m\u001b[1;33m(\u001b[0m\u001b[0mkey\u001b[0m\u001b[1;33m)\u001b[0m \u001b[1;33m!=\u001b[0m \u001b[0mlen\u001b[0m\u001b[1;33m(\u001b[0m\u001b[0mself\u001b[0m\u001b[1;33m.\u001b[0m\u001b[0mindex\u001b[0m\u001b[1;33m)\u001b[0m\u001b[1;33m:\u001b[0m\u001b[1;33m\u001b[0m\u001b[0m\n\u001b[0;32m   2169\u001b[0m                 raise ValueError('Item wrong length %d instead of %d.' %\n\u001b[1;32m-> 2170\u001b[1;33m                                  (len(key), len(self.index)))\n\u001b[0m\u001b[0;32m   2171\u001b[0m             \u001b[1;31m# check_bool_indexer will throw exception if Series key cannot\u001b[0m\u001b[1;33m\u001b[0m\u001b[1;33m\u001b[0m\u001b[0m\n\u001b[0;32m   2172\u001b[0m             \u001b[1;31m# be reindexed to match DataFrame rows\u001b[0m\u001b[1;33m\u001b[0m\u001b[1;33m\u001b[0m\u001b[0m\n",
      "\u001b[1;31mValueError\u001b[0m: Item wrong length 1 instead of 8762."
     ]
    }
   ],
   "metadata": {}
  },
  {
   "cell_type": "code",
   "execution_count": null,
   "source": [],
   "outputs": [],
   "metadata": {}
  }
 ],
 "metadata": {
  "orig_nbformat": 4,
  "language_info": {
   "name": "python",
   "version": "3.6.4",
   "mimetype": "text/x-python",
   "codemirror_mode": {
    "name": "ipython",
    "version": 3
   },
   "pygments_lexer": "ipython3",
   "nbconvert_exporter": "python",
   "file_extension": ".py"
  },
  "kernelspec": {
   "name": "python3",
   "display_name": "Python 3.6.4 64-bit ('base': conda)"
  },
  "interpreter": {
   "hash": "5b4129b0e6ed109d6738d6e2e43140334b748c2410f751cb3b9e9f9d4e236baa"
  }
 },
 "nbformat": 4,
 "nbformat_minor": 2
}
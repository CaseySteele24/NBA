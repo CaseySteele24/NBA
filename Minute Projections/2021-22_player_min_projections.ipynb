{
 "cells": [
  {
   "cell_type": "markdown",
   "metadata": {},
   "source": [
    "# Predict Minutes Played in 2021-22 For Each Player"
   ]
  },
  {
   "cell_type": "markdown",
   "metadata": {},
   "source": [
    "#### Objective: predict how many minutes each player in the NBA will have based on what their personal history is (age and minutes played in past seasons)"
   ]
  },
  {
   "cell_type": "markdown",
   "metadata": {},
   "source": [
    "#### Things to consider: Rookies will not have any history and will need to be entered manually or based on prior rookies who were drafted in their range"
   ]
  },
  {
   "cell_type": "code",
   "execution_count": 1,
   "metadata": {},
   "outputs": [],
   "source": [
    "import pandas as pd"
   ]
  },
  {
   "cell_type": "code",
   "execution_count": 5,
   "metadata": {},
   "outputs": [],
   "source": [
    "# read in the data\n",
    "url_path = 'https://raw.githubusercontent.com/CaseySteele24/NBA/main/Minute%20Projections'\n",
    "\n",
    "season_2001 = pd.read_csv(url_path + '/Data/player_totals_scrape_2001.csv', encoding='utf-16')\n",
    "season_2002 = pd.read_csv(url_path + '/Data/player_totals_scrape_2002.csv', encoding='utf-16')\n",
    "season_2003 = pd.read_csv(url_path + '/Data/player_totals_scrape_2003.csv', encoding='utf-16')\n",
    "season_2004 = pd.read_csv(url_path + '/Data/player_totals_scrape_2004.csv', encoding='utf-16')\n",
    "season_2005 = pd.read_csv(url_path + '/Data/player_totals_scrape_2005.csv', encoding='utf-16')\n",
    "season_2006 = pd.read_csv(url_path + '/Data/player_totals_scrape_2006.csv', encoding='utf-16')\n",
    "season_2007 = pd.read_csv(url_path + '/Data/player_totals_scrape_2007.csv', encoding='utf-16')\n",
    "season_2008 = pd.read_csv(url_path + '/Data/player_totals_scrape_2008.csv', encoding='utf-16')\n",
    "season_2009 = pd.read_csv(url_path + '/Data/player_totals_scrape_2009.csv', encoding='utf-16')\n",
    "season_2010 = pd.read_csv(url_path + '/Data/player_totals_scrape_2010.csv', encoding='utf-16')\n",
    "season_2011 = pd.read_csv(url_path + '/Data/player_totals_scrape_2011.csv', encoding='utf-16')\n",
    "season_2012 = pd.read_csv(url_path + '/Data/player_totals_scrape_2012.csv', encoding='utf-16')\n",
    "season_2013 = pd.read_csv(url_path + '/Data/player_totals_scrape_2013.csv', encoding='utf-16')\n",
    "season_2014 = pd.read_csv(url_path + '/Data/player_totals_scrape_2014.csv', encoding='utf-16')\n",
    "season_2015 = pd.read_csv(url_path + '/Data/player_totals_scrape_2015.csv', encoding='utf-16')\n",
    "season_2016 = pd.read_csv(url_path + '/Data/player_totals_scrape_2016.csv', encoding='utf-16')\n",
    "season_2017 = pd.read_csv(url_path + '/Data/player_totals_scrape_2017.csv', encoding='utf-16')\n",
    "season_2018 = pd.read_csv(url_path + '/Data/player_totals_scrape_2018.csv', encoding='utf-16')\n",
    "season_2019 = pd.read_csv(url_path + '/Data/player_totals_scrape_2019.csv', encoding='utf-16')\n",
    "season_2020 = pd.read_csv(url_path + '/Data/player_totals_scrape_2020.csv', encoding='utf-16')\n",
    "season_2021 = pd.read_csv(url_path + '/Data/player_totals_scrape_2021.csv', encoding='utf-16')"
   ]
  },
  {
   "cell_type": "code",
   "execution_count": 6,
   "metadata": {},
   "outputs": [],
   "source": [
    "# add the year/season to each of the files\n",
    "season_2001['Season'] = 2001\n",
    "season_2002['Season'] = 2002\n",
    "season_2003['Season'] = 2003\n",
    "season_2004['Season'] = 2004\n",
    "season_2005['Season'] = 2005\n",
    "season_2006['Season'] = 2006\n",
    "season_2007['Season'] = 2007\n",
    "season_2008['Season'] = 2008\n",
    "season_2009['Season'] = 2009\n",
    "season_2010['Season'] = 2010\n",
    "season_2011['Season'] = 2011\n",
    "season_2012['Season'] = 2012\n",
    "season_2013['Season'] = 2013\n",
    "season_2014['Season'] = 2014\n",
    "season_2015['Season'] = 2015\n",
    "season_2016['Season'] = 2016\n",
    "season_2017['Season'] = 2017\n",
    "season_2018['Season'] = 2018\n",
    "season_2019['Season'] = 2019\n",
    "season_2020['Season'] = 2020\n",
    "season_2021['Season'] = 2021"
   ]
  },
  {
   "cell_type": "code",
   "execution_count": 7,
   "metadata": {},
   "outputs": [
    {
     "data": {
      "text/html": [
       "<div>\n",
       "<style scoped>\n",
       "    .dataframe tbody tr th:only-of-type {\n",
       "        vertical-align: middle;\n",
       "    }\n",
       "\n",
       "    .dataframe tbody tr th {\n",
       "        vertical-align: top;\n",
       "    }\n",
       "\n",
       "    .dataframe thead th {\n",
       "        text-align: right;\n",
       "    }\n",
       "</style>\n",
       "<table border=\"1\" class=\"dataframe\">\n",
       "  <thead>\n",
       "    <tr style=\"text-align: right;\">\n",
       "      <th></th>\n",
       "      <th>Name</th>\n",
       "      <th>Position</th>\n",
       "      <th>Age</th>\n",
       "      <th>Team</th>\n",
       "      <th>games_played</th>\n",
       "      <th>games_started</th>\n",
       "      <th>minutes_played</th>\n",
       "      <th>field_goals</th>\n",
       "      <th>field_goals_attempted</th>\n",
       "      <th>field_goal_percentage</th>\n",
       "      <th>...</th>\n",
       "      <th>offensive_rebs</th>\n",
       "      <th>defensive_rebs</th>\n",
       "      <th>total_rebs</th>\n",
       "      <th>assists</th>\n",
       "      <th>steals</th>\n",
       "      <th>blocks</th>\n",
       "      <th>turnovers</th>\n",
       "      <th>personal_fouls</th>\n",
       "      <th>points_scored</th>\n",
       "      <th>Season</th>\n",
       "    </tr>\n",
       "  </thead>\n",
       "  <tbody>\n",
       "    <tr>\n",
       "      <th>0</th>\n",
       "      <td>Mahmoud Abdul-Rauf</td>\n",
       "      <td>PG</td>\n",
       "      <td>31</td>\n",
       "      <td>VAN</td>\n",
       "      <td>41</td>\n",
       "      <td>41</td>\n",
       "      <td>486</td>\n",
       "      <td>120</td>\n",
       "      <td>246</td>\n",
       "      <td>0.488</td>\n",
       "      <td>...</td>\n",
       "      <td>5</td>\n",
       "      <td>20</td>\n",
       "      <td>25</td>\n",
       "      <td>76</td>\n",
       "      <td>9</td>\n",
       "      <td>1</td>\n",
       "      <td>26</td>\n",
       "      <td>50</td>\n",
       "      <td>266</td>\n",
       "      <td>2001</td>\n",
       "    </tr>\n",
       "    <tr>\n",
       "      <th>1</th>\n",
       "      <td>Tariq Abdul-Wahad</td>\n",
       "      <td>SG</td>\n",
       "      <td>26</td>\n",
       "      <td>DEN</td>\n",
       "      <td>29</td>\n",
       "      <td>29</td>\n",
       "      <td>420</td>\n",
       "      <td>43</td>\n",
       "      <td>111</td>\n",
       "      <td>0.387</td>\n",
       "      <td>...</td>\n",
       "      <td>14</td>\n",
       "      <td>45</td>\n",
       "      <td>59</td>\n",
       "      <td>22</td>\n",
       "      <td>14</td>\n",
       "      <td>13</td>\n",
       "      <td>34</td>\n",
       "      <td>54</td>\n",
       "      <td>111</td>\n",
       "      <td>2001</td>\n",
       "    </tr>\n",
       "    <tr>\n",
       "      <th>2</th>\n",
       "      <td>Shareef Abdur-Rahim</td>\n",
       "      <td>SF</td>\n",
       "      <td>24</td>\n",
       "      <td>VAN</td>\n",
       "      <td>81</td>\n",
       "      <td>81</td>\n",
       "      <td>3241</td>\n",
       "      <td>604</td>\n",
       "      <td>1280</td>\n",
       "      <td>0.472</td>\n",
       "      <td>...</td>\n",
       "      <td>175</td>\n",
       "      <td>560</td>\n",
       "      <td>735</td>\n",
       "      <td>250</td>\n",
       "      <td>90</td>\n",
       "      <td>77</td>\n",
       "      <td>231</td>\n",
       "      <td>238</td>\n",
       "      <td>1663</td>\n",
       "      <td>2001</td>\n",
       "    </tr>\n",
       "    <tr>\n",
       "      <th>3</th>\n",
       "      <td>Cory Alexander</td>\n",
       "      <td>PG</td>\n",
       "      <td>27</td>\n",
       "      <td>ORL</td>\n",
       "      <td>26</td>\n",
       "      <td>26</td>\n",
       "      <td>227</td>\n",
       "      <td>18</td>\n",
       "      <td>56</td>\n",
       "      <td>0.321</td>\n",
       "      <td>...</td>\n",
       "      <td>0</td>\n",
       "      <td>25</td>\n",
       "      <td>25</td>\n",
       "      <td>36</td>\n",
       "      <td>16</td>\n",
       "      <td>0</td>\n",
       "      <td>25</td>\n",
       "      <td>29</td>\n",
       "      <td>52</td>\n",
       "      <td>2001</td>\n",
       "    </tr>\n",
       "    <tr>\n",
       "      <th>4</th>\n",
       "      <td>Courtney Alexander</td>\n",
       "      <td>PG</td>\n",
       "      <td>23</td>\n",
       "      <td>TOT</td>\n",
       "      <td>65</td>\n",
       "      <td>65</td>\n",
       "      <td>1382</td>\n",
       "      <td>239</td>\n",
       "      <td>573</td>\n",
       "      <td>0.417</td>\n",
       "      <td>...</td>\n",
       "      <td>42</td>\n",
       "      <td>101</td>\n",
       "      <td>143</td>\n",
       "      <td>62</td>\n",
       "      <td>45</td>\n",
       "      <td>5</td>\n",
       "      <td>75</td>\n",
       "      <td>139</td>\n",
       "      <td>618</td>\n",
       "      <td>2001</td>\n",
       "    </tr>\n",
       "    <tr>\n",
       "      <th>5</th>\n",
       "      <td>Courtney Alexander</td>\n",
       "      <td>PG</td>\n",
       "      <td>23</td>\n",
       "      <td>DAL</td>\n",
       "      <td>38</td>\n",
       "      <td>38</td>\n",
       "      <td>472</td>\n",
       "      <td>62</td>\n",
       "      <td>178</td>\n",
       "      <td>0.348</td>\n",
       "      <td>...</td>\n",
       "      <td>20</td>\n",
       "      <td>43</td>\n",
       "      <td>63</td>\n",
       "      <td>21</td>\n",
       "      <td>16</td>\n",
       "      <td>3</td>\n",
       "      <td>21</td>\n",
       "      <td>76</td>\n",
       "      <td>160</td>\n",
       "      <td>2001</td>\n",
       "    </tr>\n",
       "    <tr>\n",
       "      <th>6</th>\n",
       "      <td>Courtney Alexander</td>\n",
       "      <td>PG</td>\n",
       "      <td>23</td>\n",
       "      <td>WAS</td>\n",
       "      <td>27</td>\n",
       "      <td>27</td>\n",
       "      <td>910</td>\n",
       "      <td>177</td>\n",
       "      <td>395</td>\n",
       "      <td>0.448</td>\n",
       "      <td>...</td>\n",
       "      <td>22</td>\n",
       "      <td>58</td>\n",
       "      <td>80</td>\n",
       "      <td>41</td>\n",
       "      <td>29</td>\n",
       "      <td>2</td>\n",
       "      <td>54</td>\n",
       "      <td>63</td>\n",
       "      <td>458</td>\n",
       "      <td>2001</td>\n",
       "    </tr>\n",
       "    <tr>\n",
       "      <th>7</th>\n",
       "      <td>Ray Allen</td>\n",
       "      <td>SG</td>\n",
       "      <td>25</td>\n",
       "      <td>MIL</td>\n",
       "      <td>82</td>\n",
       "      <td>82</td>\n",
       "      <td>3129</td>\n",
       "      <td>628</td>\n",
       "      <td>1309</td>\n",
       "      <td>0.480</td>\n",
       "      <td>...</td>\n",
       "      <td>101</td>\n",
       "      <td>327</td>\n",
       "      <td>428</td>\n",
       "      <td>374</td>\n",
       "      <td>124</td>\n",
       "      <td>20</td>\n",
       "      <td>204</td>\n",
       "      <td>192</td>\n",
       "      <td>1806</td>\n",
       "      <td>2001</td>\n",
       "    </tr>\n",
       "    <tr>\n",
       "      <th>8</th>\n",
       "      <td>Rafer Alston</td>\n",
       "      <td>PG</td>\n",
       "      <td>24</td>\n",
       "      <td>MIL</td>\n",
       "      <td>37</td>\n",
       "      <td>37</td>\n",
       "      <td>288</td>\n",
       "      <td>30</td>\n",
       "      <td>84</td>\n",
       "      <td>0.357</td>\n",
       "      <td>...</td>\n",
       "      <td>4</td>\n",
       "      <td>27</td>\n",
       "      <td>31</td>\n",
       "      <td>68</td>\n",
       "      <td>13</td>\n",
       "      <td>0</td>\n",
       "      <td>20</td>\n",
       "      <td>27</td>\n",
       "      <td>77</td>\n",
       "      <td>2001</td>\n",
       "    </tr>\n",
       "    <tr>\n",
       "      <th>9</th>\n",
       "      <td>John Amaechi</td>\n",
       "      <td>C</td>\n",
       "      <td>30</td>\n",
       "      <td>ORL</td>\n",
       "      <td>82</td>\n",
       "      <td>82</td>\n",
       "      <td>1710</td>\n",
       "      <td>237</td>\n",
       "      <td>592</td>\n",
       "      <td>0.400</td>\n",
       "      <td>...</td>\n",
       "      <td>77</td>\n",
       "      <td>191</td>\n",
       "      <td>268</td>\n",
       "      <td>74</td>\n",
       "      <td>28</td>\n",
       "      <td>29</td>\n",
       "      <td>124</td>\n",
       "      <td>175</td>\n",
       "      <td>650</td>\n",
       "      <td>2001</td>\n",
       "    </tr>\n",
       "  </tbody>\n",
       "</table>\n",
       "<p>10 rows × 30 columns</p>\n",
       "</div>"
      ],
      "text/plain": [
       "                  Name Position  Age Team  games_played  games_started  \\\n",
       "0   Mahmoud Abdul-Rauf       PG   31  VAN            41             41   \n",
       "1    Tariq Abdul-Wahad       SG   26  DEN            29             29   \n",
       "2  Shareef Abdur-Rahim       SF   24  VAN            81             81   \n",
       "3       Cory Alexander       PG   27  ORL            26             26   \n",
       "4   Courtney Alexander       PG   23  TOT            65             65   \n",
       "5   Courtney Alexander       PG   23  DAL            38             38   \n",
       "6   Courtney Alexander       PG   23  WAS            27             27   \n",
       "7            Ray Allen       SG   25  MIL            82             82   \n",
       "8         Rafer Alston       PG   24  MIL            37             37   \n",
       "9         John Amaechi        C   30  ORL            82             82   \n",
       "\n",
       "   minutes_played  field_goals  field_goals_attempted  field_goal_percentage  \\\n",
       "0             486          120                    246                  0.488   \n",
       "1             420           43                    111                  0.387   \n",
       "2            3241          604                   1280                  0.472   \n",
       "3             227           18                     56                  0.321   \n",
       "4            1382          239                    573                  0.417   \n",
       "5             472           62                    178                  0.348   \n",
       "6             910          177                    395                  0.448   \n",
       "7            3129          628                   1309                  0.480   \n",
       "8             288           30                     84                  0.357   \n",
       "9            1710          237                    592                  0.400   \n",
       "\n",
       "   ...  offensive_rebs  defensive_rebs  total_rebs  assists  steals  blocks  \\\n",
       "0  ...               5              20          25       76       9       1   \n",
       "1  ...              14              45          59       22      14      13   \n",
       "2  ...             175             560         735      250      90      77   \n",
       "3  ...               0              25          25       36      16       0   \n",
       "4  ...              42             101         143       62      45       5   \n",
       "5  ...              20              43          63       21      16       3   \n",
       "6  ...              22              58          80       41      29       2   \n",
       "7  ...             101             327         428      374     124      20   \n",
       "8  ...               4              27          31       68      13       0   \n",
       "9  ...              77             191         268       74      28      29   \n",
       "\n",
       "   turnovers  personal_fouls  points_scored  Season  \n",
       "0         26              50            266    2001  \n",
       "1         34              54            111    2001  \n",
       "2        231             238           1663    2001  \n",
       "3         25              29             52    2001  \n",
       "4         75             139            618    2001  \n",
       "5         21              76            160    2001  \n",
       "6         54              63            458    2001  \n",
       "7        204             192           1806    2001  \n",
       "8         20              27             77    2001  \n",
       "9        124             175            650    2001  \n",
       "\n",
       "[10 rows x 30 columns]"
      ]
     },
     "execution_count": 7,
     "metadata": {},
     "output_type": "execute_result"
    }
   ],
   "source": [
    "# if a player has TOT shown for their team, only keep that record\n",
    "# this is because the data also splits out that player by all teams they were on that season, TOT is combined\n",
    "season_2001.head(10)"
   ]
  },
  {
   "cell_type": "code",
   "execution_count": null,
   "metadata": {},
   "outputs": [],
   "source": [
    "# union all the files together\n",
    "unioned_df = pd.concat([season_2001, season_2002, season_2003, season_2004, season_2005, season_2006, season_2007, season_2008, season_2009, \n",
    "season_2010, season_2011, season_2012, season_2013, season_2014, season_2015, season_2016, season_2017, season_2018, season_2019, season_2020, season_2021], ignore_index=True)"
   ]
  },
  {
   "cell_type": "code",
   "execution_count": null,
   "metadata": {},
   "outputs": [],
   "source": [
    "unioned_df.head()"
   ]
  },
  {
   "cell_type": "code",
   "execution_count": null,
   "metadata": {},
   "outputs": [],
   "source": [
    "unioned_df.tail()"
   ]
  },
  {
   "cell_type": "code",
   "execution_count": null,
   "metadata": {},
   "outputs": [],
   "source": [
    "# limit to the columns we need for minute projections\n",
    "keeper_cols = ['Name', 'Age', 'minutes_played', 'Season']\n",
    "minutes_df = unioned_df[keeper_cols]"
   ]
  },
  {
   "cell_type": "code",
   "execution_count": null,
   "metadata": {},
   "outputs": [],
   "source": [
    "minutes_df = minutes_df.sort_values(by=['Name', 'Season'])"
   ]
  },
  {
   "cell_type": "code",
   "execution_count": null,
   "metadata": {},
   "outputs": [],
   "source": [
    "minutes_df.head()"
   ]
  },
  {
   "cell_type": "code",
   "execution_count": null,
   "metadata": {},
   "outputs": [],
   "source": [
    "# check an example to see if everything looks OK\n",
    "minutes_df[minutes_df['Name'] == 'Kobe Bryant']"
   ]
  },
  {
   "cell_type": "code",
   "execution_count": null,
   "metadata": {},
   "outputs": [],
   "source": [
    "# basketball-reference makes multiple records for a player when their time within a season is split among more than 1 team\n",
    "# if a player has a team of TOT at any point, only keep that record for that season\n"
   ]
  },
  {
   "cell_type": "code",
   "execution_count": null,
   "metadata": {},
   "outputs": [],
   "source": [
    "# get most recent season played for each player\n",
    "first_last_seasons = minutes_df.groupby('Name').agg({'Season':['min', 'max']}).reset_index()"
   ]
  },
  {
   "cell_type": "code",
   "execution_count": null,
   "metadata": {},
   "outputs": [],
   "source": [
    "first_last_seasons.head()"
   ]
  },
  {
   "cell_type": "code",
   "execution_count": null,
   "metadata": {},
   "outputs": [],
   "source": [
    "# get rid of the multiindex \n",
    "first_last_seasons.columns = ['_'.join(col).strip() for col in first_last_seasons.columns.values]"
   ]
  },
  {
   "cell_type": "code",
   "execution_count": null,
   "metadata": {},
   "outputs": [],
   "source": [
    "first_last_seasons.head()"
   ]
  },
  {
   "cell_type": "code",
   "execution_count": null,
   "metadata": {},
   "outputs": [],
   "source": [
    "minutes_df.shape"
   ]
  },
  {
   "cell_type": "code",
   "execution_count": null,
   "metadata": {},
   "outputs": [],
   "source": [
    "minutes_df = minutes_df.merge(right=first_last_seasons, left_on='Name', right_on='Name_', how='inner')"
   ]
  },
  {
   "cell_type": "code",
   "execution_count": null,
   "metadata": {},
   "outputs": [],
   "source": [
    "minutes_df.shape"
   ]
  },
  {
   "cell_type": "code",
   "execution_count": null,
   "metadata": {},
   "outputs": [],
   "source": [
    "minutes_df.head()"
   ]
  },
  {
   "cell_type": "code",
   "execution_count": null,
   "metadata": {},
   "outputs": [],
   "source": [
    "# remove the second name column\n",
    "minutes_df.drop('Name_', inplace=True, axis=1)"
   ]
  },
  {
   "cell_type": "code",
   "execution_count": null,
   "metadata": {},
   "outputs": [],
   "source": [
    "minutes_df.head()"
   ]
  },
  {
   "cell_type": "code",
   "execution_count": null,
   "metadata": {},
   "outputs": [],
   "source": [
    "# get total seasons per player in the data\n",
    "minutes_df['total_seasons_in_data'] = (minutes_df['Season_max'] - minutes_df['Season_min']) + 1"
   ]
  },
  {
   "cell_type": "code",
   "execution_count": null,
   "metadata": {},
   "outputs": [],
   "source": [
    "minutes_df.head()"
   ]
  },
  {
   "cell_type": "code",
   "execution_count": null,
   "metadata": {},
   "outputs": [],
   "source": [
    "# get the season number by player\n",
    "minutes_df['season_number'] = minutes_df.groupby(['Name']).cumcount()+1"
   ]
  },
  {
   "cell_type": "code",
   "execution_count": null,
   "metadata": {},
   "outputs": [],
   "source": [
    "minutes_df.head(20)"
   ]
  },
  {
   "cell_type": "code",
   "execution_count": null,
   "metadata": {},
   "outputs": [],
   "source": []
  }
 ],
 "metadata": {
  "interpreter": {
   "hash": "b3ba2566441a7c06988d0923437866b63cedc61552a5af99d1f4fb67d367b25f"
  },
  "kernelspec": {
   "display_name": "Python 3.8.5 64-bit ('base': conda)",
   "name": "python3"
  },
  "language_info": {
   "codemirror_mode": {
    "name": "ipython",
    "version": 3
   },
   "file_extension": ".py",
   "mimetype": "text/x-python",
   "name": "python",
   "nbconvert_exporter": "python",
   "pygments_lexer": "ipython3",
   "version": "3.8.5"
  },
  "orig_nbformat": 4
 },
 "nbformat": 4,
 "nbformat_minor": 2
}

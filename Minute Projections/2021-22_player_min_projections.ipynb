{
 "cells": [
  {
   "cell_type": "markdown",
   "metadata": {},
   "source": [
    "# Predict Minutes Played in 2021-22 For Each Player"
   ]
  },
  {
   "cell_type": "markdown",
   "metadata": {},
   "source": [
    "#### Objective: predict how many minutes each player in the NBA will have based on what their personal history is (age and minutes played in past seasons)"
   ]
  },
  {
   "cell_type": "markdown",
   "metadata": {},
   "source": [
    "#### Things to consider: Rookies will not have any history and will need to be entered manually or based on prior rookies who were drafted in their range"
   ]
  },
  {
   "cell_type": "code",
   "execution_count": 1,
   "metadata": {},
   "outputs": [],
   "source": [
    "import pandas as pd"
   ]
  },
  {
   "cell_type": "code",
   "execution_count": 2,
   "metadata": {},
   "outputs": [],
   "source": [
    "# read in the data\n",
    "season_2001 = pd.read_csv('https://raw.githubusercontent.com/CaseySteele24/NBA/main/Data/totals_by_player/player_totals_scrape_2001.csv', encoding='utf-16')\n",
    "season_2002 = pd.read_csv('https://raw.githubusercontent.com/CaseySteele24/NBA/main/Data/totals_by_player/player_totals_scrape_2002.csv', encoding='utf-16')\n",
    "season_2003 = pd.read_csv('https://raw.githubusercontent.com/CaseySteele24/NBA/main/Data/totals_by_player/player_totals_scrape_2003.csv', encoding='utf-16')\n",
    "season_2004 = pd.read_csv('https://raw.githubusercontent.com/CaseySteele24/NBA/main/Data/totals_by_player/player_totals_scrape_2004.csv', encoding='utf-16')\n",
    "season_2005 = pd.read_csv('https://raw.githubusercontent.com/CaseySteele24/NBA/main/Data/totals_by_player/player_totals_scrape_2005.csv', encoding='utf-16')\n",
    "season_2006 = pd.read_csv('https://raw.githubusercontent.com/CaseySteele24/NBA/main/Data/totals_by_player/player_totals_scrape_2006.csv', encoding='utf-16')\n",
    "season_2007 = pd.read_csv('https://raw.githubusercontent.com/CaseySteele24/NBA/main/Data/totals_by_player/player_totals_scrape_2007.csv', encoding='utf-16')\n",
    "season_2008 = pd.read_csv('https://raw.githubusercontent.com/CaseySteele24/NBA/main/Data/totals_by_player/player_totals_scrape_2008.csv', encoding='utf-16')\n",
    "season_2009 = pd.read_csv('https://raw.githubusercontent.com/CaseySteele24/NBA/main/Data/totals_by_player/player_totals_scrape_2009.csv', encoding='utf-16')\n",
    "season_2010 = pd.read_csv('https://raw.githubusercontent.com/CaseySteele24/NBA/main/Data/totals_by_player/player_totals_scrape_2010.csv', encoding='utf-16')\n",
    "season_2011 = pd.read_csv('https://raw.githubusercontent.com/CaseySteele24/NBA/main/Data/totals_by_player/player_totals_scrape_2011.csv', encoding='utf-16')\n",
    "season_2012 = pd.read_csv('https://raw.githubusercontent.com/CaseySteele24/NBA/main/Data/totals_by_player/player_totals_scrape_2012.csv', encoding='utf-16')\n",
    "season_2013 = pd.read_csv('https://raw.githubusercontent.com/CaseySteele24/NBA/main/Data/totals_by_player/player_totals_scrape_2013.csv', encoding='utf-16')\n",
    "season_2014 = pd.read_csv('https://raw.githubusercontent.com/CaseySteele24/NBA/main/Data/totals_by_player/player_totals_scrape_2014.csv', encoding='utf-16')\n",
    "season_2015 = pd.read_csv('https://raw.githubusercontent.com/CaseySteele24/NBA/main/Data/totals_by_player/player_totals_scrape_2015.csv', encoding='utf-16')\n",
    "season_2016 = pd.read_csv('https://raw.githubusercontent.com/CaseySteele24/NBA/main/Data/totals_by_player/player_totals_scrape_2016.csv', encoding='utf-16')\n",
    "season_2017 = pd.read_csv('https://raw.githubusercontent.com/CaseySteele24/NBA/main/Data/totals_by_player/player_totals_scrape_2017.csv', encoding='utf-16')\n",
    "season_2018 = pd.read_csv('https://raw.githubusercontent.com/CaseySteele24/NBA/main/Data/totals_by_player/player_totals_scrape_2018.csv', encoding='utf-16')\n",
    "season_2019 = pd.read_csv('https://raw.githubusercontent.com/CaseySteele24/NBA/main/Data/totals_by_player/player_totals_scrape_2019.csv', encoding='utf-16')\n",
    "season_2020 = pd.read_csv('https://raw.githubusercontent.com/CaseySteele24/NBA/main/Data/totals_by_player/player_totals_scrape_2020.csv', encoding='utf-16')\n",
    "season_2021 = pd.read_csv('https://raw.githubusercontent.com/CaseySteele24/NBA/main/Data/totals_by_player/player_totals_scrape_2021.csv', encoding='utf-16')"
   ]
  },
  {
   "cell_type": "code",
   "execution_count": 3,
   "metadata": {},
   "outputs": [],
   "source": [
    "# add the year/season to each of the files\n",
    "season_2001['Season'] = 2001\n",
    "season_2002['Season'] = 2002\n",
    "season_2003['Season'] = 2003\n",
    "season_2004['Season'] = 2004\n",
    "season_2005['Season'] = 2005\n",
    "season_2006['Season'] = 2006\n",
    "season_2007['Season'] = 2007\n",
    "season_2008['Season'] = 2008\n",
    "season_2009['Season'] = 2009\n",
    "season_2010['Season'] = 2010\n",
    "season_2011['Season'] = 2011\n",
    "season_2012['Season'] = 2012\n",
    "season_2013['Season'] = 2013\n",
    "season_2014['Season'] = 2014\n",
    "season_2015['Season'] = 2015\n",
    "season_2016['Season'] = 2016\n",
    "season_2017['Season'] = 2017\n",
    "season_2018['Season'] = 2018\n",
    "season_2019['Season'] = 2019\n",
    "season_2020['Season'] = 2020\n",
    "season_2021['Season'] = 2021"
   ]
  },
  {
   "cell_type": "code",
   "execution_count": null,
   "metadata": {},
   "outputs": [],
   "source": [
    "# union all the files together\n",
    "unioned_df = pd.concat([season_2001, season_2002, season_2003, season_2004, season_2005, season_2006, season_2007, season_2008, season_2009, \n",
    "season_2010, season_2011, season_2012, season_2013, season_2014, season_2015, season_2016, season_2017, season_2018, season_2019, season_2020, season_2021], ignore_index=True)"
   ]
  },
  {
   "cell_type": "code",
   "execution_count": null,
   "metadata": {},
   "outputs": [],
   "source": [
    "unioned_df.head()"
   ]
  },
  {
   "cell_type": "code",
   "execution_count": null,
   "metadata": {},
   "outputs": [],
   "source": [
    "unioned_df.tail()"
   ]
  },
  {
   "cell_type": "code",
   "execution_count": null,
   "metadata": {},
   "outputs": [],
   "source": [
    "# limit to the columns we need for minute projections\n",
    "keeper_cols = ['Name', 'Age', 'minutes_played', 'Season']\n",
    "minutes_df = unioned_df[keeper_cols]"
   ]
  },
  {
   "cell_type": "code",
   "execution_count": null,
   "metadata": {},
   "outputs": [],
   "source": [
    "minutes_df = minutes_df.sort_values(by=['Name', 'Season'])"
   ]
  },
  {
   "cell_type": "code",
   "execution_count": null,
   "metadata": {},
   "outputs": [],
   "source": [
    "minutes_df.head()"
   ]
  },
  {
   "cell_type": "code",
   "execution_count": null,
   "metadata": {},
   "outputs": [],
   "source": [
    "# check an example to see if everything looks OK\n",
    "minutes_df[minutes_df['Name'] == 'Kobe Bryant']"
   ]
  },
  {
   "cell_type": "code",
   "execution_count": null,
   "metadata": {},
   "outputs": [],
   "source": [
    "# basketball-reference makes multiple records for a player when their time within a season is split among more than 1 team\n",
    "# if a player has a team of TOT at any point, only keep that record for that season\n"
   ]
  },
  {
   "cell_type": "code",
   "execution_count": null,
   "metadata": {},
   "outputs": [],
   "source": [
    "# get most recent season played for each player\n",
    "first_last_seasons = minutes_df.groupby('Name').agg({'Season':['min', 'max']}).reset_index()"
   ]
  },
  {
   "cell_type": "code",
   "execution_count": null,
   "metadata": {},
   "outputs": [],
   "source": [
    "first_last_seasons.head()"
   ]
  },
  {
   "cell_type": "code",
   "execution_count": null,
   "metadata": {},
   "outputs": [],
   "source": [
    "# get rid of the multiindex \n",
    "first_last_seasons.columns = ['_'.join(col).strip() for col in first_last_seasons.columns.values]"
   ]
  },
  {
   "cell_type": "code",
   "execution_count": null,
   "metadata": {},
   "outputs": [],
   "source": [
    "first_last_seasons.head()"
   ]
  },
  {
   "cell_type": "code",
   "execution_count": null,
   "metadata": {},
   "outputs": [],
   "source": [
    "minutes_df.shape"
   ]
  },
  {
   "cell_type": "code",
   "execution_count": null,
   "metadata": {},
   "outputs": [],
   "source": [
    "minutes_df = minutes_df.merge(right=first_last_seasons, left_on='Name', right_on='Name_', how='inner')"
   ]
  },
  {
   "cell_type": "code",
   "execution_count": null,
   "metadata": {},
   "outputs": [],
   "source": [
    "minutes_df.shape"
   ]
  },
  {
   "cell_type": "code",
   "execution_count": null,
   "metadata": {},
   "outputs": [],
   "source": [
    "minutes_df.head()"
   ]
  },
  {
   "cell_type": "code",
   "execution_count": null,
   "metadata": {},
   "outputs": [],
   "source": [
    "# remove the second name column\n",
    "minutes_df.drop('Name_', inplace=True, axis=1)"
   ]
  },
  {
   "cell_type": "code",
   "execution_count": null,
   "metadata": {},
   "outputs": [],
   "source": [
    "minutes_df.head()"
   ]
  },
  {
   "cell_type": "code",
   "execution_count": null,
   "metadata": {},
   "outputs": [],
   "source": [
    "# get total seasons per player in the data\n",
    "minutes_df['total_seasons_in_data'] = (minutes_df['Season_max'] - minutes_df['Season_min']) + 1"
   ]
  },
  {
   "cell_type": "code",
   "execution_count": null,
   "metadata": {},
   "outputs": [],
   "source": [
    "minutes_df.head()"
   ]
  },
  {
   "cell_type": "code",
   "execution_count": null,
   "metadata": {},
   "outputs": [],
   "source": [
    "# get the season number by player\n",
    "minutes_df['season_number'] = minutes_df.groupby(['Name']).cumcount()+1"
   ]
  },
  {
   "cell_type": "code",
   "execution_count": null,
   "metadata": {},
   "outputs": [],
   "source": [
    "minutes_df.head(20)"
   ]
  },
  {
   "cell_type": "code",
   "execution_count": null,
   "metadata": {},
   "outputs": [],
   "source": []
  }
 ],
 "metadata": {
  "interpreter": {
   "hash": "b3ba2566441a7c06988d0923437866b63cedc61552a5af99d1f4fb67d367b25f"
  },
  "kernelspec": {
   "display_name": "Python 3.8.5 64-bit ('base': conda)",
   "name": "python3"
  },
  "language_info": {
   "codemirror_mode": {
    "name": "ipython",
    "version": 3
   },
   "file_extension": ".py",
   "mimetype": "text/x-python",
   "name": "python",
   "nbconvert_exporter": "python",
   "pygments_lexer": "ipython3",
   "version": "3.8.5"
  },
  "orig_nbformat": 4
 },
 "nbformat": 4,
 "nbformat_minor": 2
}
